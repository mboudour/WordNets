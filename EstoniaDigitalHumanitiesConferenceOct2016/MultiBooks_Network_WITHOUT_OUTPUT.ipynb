{
 "cells": [
  {
   "cell_type": "markdown",
   "metadata": {},
   "source": [
    "# The Network of Correlations Among Common Noun Phrases in a Collection of Books\n",
    "\n",
    "# The Case of Jane Austen, Charlotte Bronte, Anne Bronte and Charles Dickens\n",
    "\n",
    "## By Moses Boudourides & Sergios Lenis "
   ]
  },
  {
   "cell_type": "markdown",
   "metadata": {},
   "source": [
    "### Importing Python Modules "
   ]
  },
  {
   "cell_type": "code",
   "execution_count": null,
   "metadata": {
    "collapsed": false
   },
   "outputs": [],
   "source": [
    "import random\n",
    "import nltk\n",
    "import codecs\n",
    "from textblob import TextBlob\n",
    "import networkx as nx\n",
    "import matplotlib.pyplot as plt\n",
    "import pandas as pd\n",
    "from collections import Counter\n",
    "import imp\n",
    "from ipywidgets import widgets\n",
    "import tools as tool\n",
    "import warnings\n",
    "warnings.filterwarnings('ignore')\n",
    "# utilsdir='/home/sergios-len/Dropbox/Python Projects (1)/utils/'#tools.py'\n",
    "# utilsdir='/home/mosesboudourides/Dropbox/Python Projects/utils'\n",
    "\n",
    "%matplotlib inline \n",
    "%load_ext autoreload"
   ]
  },
  {
   "cell_type": "markdown",
   "metadata": {},
   "source": [
    "## I. Importing the Text of Plato's *Phaedrus*"
   ]
  },
  {
   "cell_type": "code",
   "execution_count": null,
   "metadata": {
    "collapsed": false,
    "scrolled": true
   },
   "outputs": [],
   "source": [
    "# filenames=['/home/mosesboudourides/Dropbox/Python Projects/LiteratureNetworks/EstoniaDigitalHumanitiesConferenceOct2016/VarLiteratureBooksCorpora/austen-brontë/Austen_Emma.txt','/home/mosesboudourides/Dropbox/Python Projects/LiteratureNetworks/EstoniaDigitalHumanitiesConferenceOct2016/VarLiteratureBooksCorpora/austen-brontë/Austen_Pride.txt','/home/mosesboudourides/Dropbox/Python Projects/LiteratureNetworks/EstoniaDigitalHumanitiesConferenceOct2016/VarLiteratureBooksCorpora/austen-brontë/Austen_Sense.txt','/home/mosesboudourides/Dropbox/Python Projects/LiteratureNetworks/EstoniaDigitalHumanitiesConferenceOct2016/VarLiteratureBooksCorpora/austen-brontë/CBronte_Jane.txt','/home/mosesboudourides/Dropbox/Python Projects/LiteratureNetworks/EstoniaDigitalHumanitiesConferenceOct2016/VarLiteratureBooksCorpora/austen-brontë/CBronte_Professor.txt','/home/mosesboudourides/Dropbox/Python Projects/LiteratureNetworks/EstoniaDigitalHumanitiesConferenceOct2016/VarLiteratureBooksCorpora/austen-brontë/CBronte_Villette.txt',\n",
    "#            '/home/mosesboudourides/Dropbox/Python Projects/LiteratureNetworks/EstoniaDigitalHumanitiesConferenceOct2016/VarLiteratureBooksCorpora/british-fiction-corpus/Dickens_Bleak.txt','/home/mosesboudourides/Dropbox/Python Projects/LiteratureNetworks/EstoniaDigitalHumanitiesConferenceOct2016/VarLiteratureBooksCorpora/british-fiction-corpus/Dickens_David.txt','/home/mosesboudourides/Dropbox/Python Projects/LiteratureNetworks/EstoniaDigitalHumanitiesConferenceOct2016/VarLiteratureBooksCorpora/british-fiction-corpus/Dickens_Hard.txt']\n",
    "filenames=['VarLiteratureBooksCorpora/austen-brontë/Austen_Emma.txt',\n",
    "           'VarLiteratureBooksCorpora/austen-brontë/Austen_Pride.txt',\n",
    "           'VarLiteratureBooksCorpora/austen-brontë/Austen_Sense.txt',\n",
    "           'VarLiteratureBooksCorpora/austen-brontë/CBronte_Jane.txt',\n",
    "           'VarLiteratureBooksCorpora/austen-brontë/CBronte_Professor.txt',\n",
    "           'VarLiteratureBooksCorpora/austen-brontë/CBronte_Villette.txt',\n",
    "           'VarLiteratureBooksCorpora/british-fiction-corpus/ABronte_Agnes.txt',\n",
    "           'VarLiteratureBooksCorpora/british-fiction-corpus/ABronte_Tenant.txt',#]\n",
    "          'VarLiteratureBooksCorpora/british-fiction-corpus/Dickens_Oliver_Twist.txt',\n",
    "           'VarLiteratureBooksCorpora/british-fiction-corpus/Dickens_David.txt',\n",
    "           'VarLiteratureBooksCorpora/british-fiction-corpus/Dickens_Hard.txt']\n",
    "\n",
    "# filenames = ['/home/mosesboudourides/Dropbox/Python Projects/LiteratureNetworks/EstoniaDigitalHumanitiesConferenceOct2016/VarLiteratureBooksCorpora/austen-brontë/Austen_Emma.txt','/home/mosesboudourides/Dropbox/Python Projects/LiteratureNetworks/EstoniaDigitalHumanitiesConferenceOct2016/VarLiteratureBooksCorpora/austen-brontë/Austen_Pride.txt','/home/mosesboudourides/Dropbox/Python Projects/LiteratureNetworks/EstoniaDigitalHumanitiesConferenceOct2016/VarLiteratureBooksCorpora/austen-brontë/Austen_Sense.txt','/home/mosesboudourides/Dropbox/Python Projects/LiteratureNetworks/EstoniaDigitalHumanitiesConferenceOct2016/VarLiteratureBooksCorpora/austen-brontë/CBronte_Jane.txt','/home/mosesboudourides/Dropbox/Python Projects/LiteratureNetworks/EstoniaDigitalHumanitiesConferenceOct2016/VarLiteratureBooksCorpora/austen-brontë/CBronte_Professor.txt','/home/mosesboudourides/Dropbox/Python Projects/LiteratureNetworks/EstoniaDigitalHumanitiesConferenceOct2016/VarLiteratureBooksCorpora/austen-brontë/CBronte_Villette.txt']\n",
    "# titlename = \"Plato's Protagoras\"\n",
    "# titlenames=['Austen_Emma','Austen_Pride','Austen_Sense','CBronte_Jane','CBronte_Professor','CBronte_Villette']\n",
    "titlenames=['Austen_Emma',\n",
    "            'Austen_Pride_and_Prejudice',\n",
    "            'Austen_Sense_and_Sensibility',\n",
    "            'CBronte_Jane_Eyre',\n",
    "            'CBronte_The_Professor',\n",
    "            'CBronte_Villette',\n",
    "           'ABronte_Agnes_Grey',\n",
    "           'ABronte_The_Tenant_of_Wildfell_Hall',#]\n",
    "            'Dickens_Oliver_Twist',\n",
    "            'Dickens_David_Copperfield',\n",
    "            'Dickens_Hard_Times']\n",
    "# e']\n",
    "# filenames=['VarLiteratureBooksCorpora/austen-brontë/Austen_Emma.txt','VarLiteratureBooksCorpora/austen-brontë/Austen_Pride.txt','VarLiteratureBooksCorpora/austen-brontë/Austen_Sense.txt','VarLiteratureBooksCorpora/austen-brontë/CBronte_Jane.txt','VarLiteratureBooksCorpora/austen-brontë/CBronte_Professor.txt','VarLiteratureBooksCorpora/austen-brontë/CBronte_Villette.txt']\n",
    "# from textblob.np_extractors import ConllExtractor\n",
    "# extractor = ConllExtractor()\n",
    "        \n",
    "\n",
    "# titlenames=['Austen_Emma','Austen_Pride','Austen_Sense','CBronte_Jane','CBronte_Professor','CBronte_Villette']\n",
    "blobs={}\n",
    "for ii,filename in enumerate(filenames):\n",
    "    f = codecs.open(filename, \"r\", encoding=\"utf-8\").read()\n",
    "\n",
    "    num_lines = 0\n",
    "    num_words = 0\n",
    "    num_chars = 0\n",
    "    for line in f:\n",
    "        words = line.split()\n",
    "        num_lines += 1\n",
    "        num_words += len(words)\n",
    "        num_chars += len(line)\n",
    "    print \"%s has number of words = %i (and number of characters/symbols = %i)\" %(titlenames[ii],num_words,num_chars)\n",
    "    blobs[ii] = TextBlob(f)\n",
    "#     blobs[ii] = TextBlob(f,np_extractor=extractor)"
   ]
  },
  {
   "cell_type": "markdown",
   "metadata": {},
   "source": [
    "## II. Extracting the Most Frequent Noun Phrases in Plato's *Phaedrus*"
   ]
  },
  {
   "cell_type": "code",
   "execution_count": null,
   "metadata": {
    "collapsed": false
   },
   "outputs": [],
   "source": [
    "moccurdic={}\n",
    "for ii,blob in blobs.items():\n",
    "    all_sents=blob.sentences\n",
    "    occurdic=Counter()\n",
    "    for sen in all_sents:\n",
    "        dd=sen.dict\n",
    "        for np in dd['noun_phrases']:\n",
    "            occurdic[np]+=1\n",
    "\n",
    "#     df = pd.DataFrame(columns=[\"%s Noun Phrases\" %titlenames[ii], \"Frequencies\"])\n",
    "#     u=1\n",
    "#     for l,v in occurdic.items(): \n",
    "#         df.loc[u]=[l,v]\n",
    "#         u+=1\n",
    "\n",
    "#     print \"The total number of noun phrases in %s is %i.\" %(titlenames[ii],len(df))#len(npA))\n",
    "#     df.sort([\"Frequencies\"], ascending=[0])\n",
    "\n",
    "#     cut = 2\n",
    "#     df = df[df['Frequencies']>cut].sort([\"Frequencies\"], ascending=[0])\n",
    "#     print \"The total number of noun phrases in %s with frequencies > %i is %i.\" %(titlenames[ii],cut,len(df))#len(npA))\n",
    "#     df.sort([\"Frequencies\"], ascending=[0])\n",
    "    moccurdic[ii]=Counter(occurdic)"
   ]
  },
  {
   "cell_type": "code",
   "execution_count": null,
   "metadata": {
    "collapsed": false
   },
   "outputs": [],
   "source": [
    "from nltk.corpus import stopwords\n",
    "stop=set(stopwords.words('english'))\n",
    "ses=None\n",
    "for ii,vv in moccurdic.items():\n",
    "#     print ii,set(vv).intersection(stop).intersection(ses)\n",
    "    if ses==None:\n",
    "        \n",
    "        ses=set(vv.keys())-stop\n",
    "    else:\n",
    "        ses=ses.intersection(set(vv.keys())-stop)\n",
    "print 'The %i books have the following %i common noun phrases:' %(len(titlenames),len(ses))\n",
    "columnss=['noun_phrase']\n",
    "for tit in list(titlenames):\n",
    "    columnss.append(tit)\n",
    "\n",
    "dfnamesa=pd.DataFrame()\n",
    "dff=[]\n",
    "for sss in ses:\n",
    "    \n",
    "    dfd={'noun_phrase':sss}\n",
    "    for ii,vv in moccurdic.items():\n",
    "        dfd[titlenames[ii]]=vv[sss]\n",
    "    dff.append(dfd)\n",
    "dfnamesa=pd.DataFrame(dff)\n",
    "# ses\n",
    "dfnamesa=dfnamesa[columnss]\n",
    "dfnamesa\n"
   ]
  },
  {
   "cell_type": "code",
   "execution_count": null,
   "metadata": {
    "collapsed": false
   },
   "outputs": [],
   "source": [
    "ses=None\n",
    "# excluded=['have','was','shall',\"ca n't\",'think']\n",
    "excluded=['shall',\"ca n't\",'think']\n",
    "for ii,vv in moccurdic.items():\n",
    "    vv=set(vv.keys()) -(set(excluded))\n",
    "    if ses==None:\n",
    "        ses=set(vv)\n",
    "    else:\n",
    "        ses=ses.intersection(set(vv))\n",
    "#     print ii,len(ses)\n",
    "print 'The %i books have the following %i common noun phrases:' %(len(titlenames),len(ses))\n",
    "columnss=['noun_phrase']\n",
    "for tit in list(titlenames):\n",
    "    columnss.append(tit)\n",
    "\n",
    "dfnames=pd.DataFrame()\n",
    "dff=[]\n",
    "for sss in ses:\n",
    "    \n",
    "    dfd={'noun_phrase':sss}\n",
    "#     dff.append({})\n",
    "#     print sss,\n",
    "    for ii,vv in moccurdic.items():\n",
    "        dfd[titlenames[ii]]=vv[sss]*1./sum(moccurdic[ii].values())\n",
    "    dff.append(dfd)\n",
    "#         print ii,'=>',vv[sss],\n",
    "#     print \n",
    "# print dff\n",
    "dfnames=pd.DataFrame(dff)\n",
    "# ses\n",
    "# print dfnames.columns\n",
    "dfnames=dfnames[columnss]\n",
    "dfnames"
   ]
  },
  {
   "cell_type": "code",
   "execution_count": null,
   "metadata": {
    "collapsed": false
   },
   "outputs": [],
   "source": [
    "dfnamescor=dfnames.corr()\n",
    "dfnamescor"
   ]
  },
  {
   "cell_type": "code",
   "execution_count": null,
   "metadata": {
    "collapsed": false
   },
   "outputs": [],
   "source": [
    "G=nx.Graph()\n",
    "ddd=dfnamescor.to_dict(orient='index')\n",
    "# print ddd\n",
    "for k,v in ddd.items():\n",
    "    for kk,vv in v.items():\n",
    "        G.add_edge(k,kk,weight=vv)\n",
    "import community as comms\n",
    "part = comms.best_partition(G)\n",
    "# print part\n",
    "npart={}\n",
    "for k,v in part.items():\n",
    "    if v not in npart:\n",
    "        npart[v]=[]\n",
    "    npart[v].append(k)\n",
    "npart\n",
    "# for row in dfnamescor.iterrows():\n",
    "#     index, data = row\n",
    "#     print index,data"
   ]
  },
  {
   "cell_type": "code",
   "execution_count": null,
   "metadata": {
    "collapsed": false,
    "scrolled": true
   },
   "outputs": [],
   "source": [
    "sstt=\"Network of Common Noun Phrases \"#\\n(Sentences colored in subjectivity)\"# %titlename\n",
    "part,nodper=tool.print_communities(G,sstt)\n",
    "\n",
    "d=0.8 \n",
    "dd=0.8\n",
    "c=1.2\n",
    "cc=1.4\n",
    "alpha=0.2\n",
    "ealpha=0.6\n",
    "vcc={}\n",
    "sstta=\"The %s Communities of the Network of Common Noun Phrases in %i books\" %(max(part.values())+1,len(titlenames))#sstt)\n",
    "\n",
    "tool.draw_comms(G,G.nodes(),[],[],[] ,part,part,d,dd,c,cc,alpha,ealpha,nodper,sstta,titlefont=20,labelfont=17,valpha=0.5)"
   ]
  },
  {
   "cell_type": "code",
   "execution_count": null,
   "metadata": {
    "collapsed": false
   },
   "outputs": [],
   "source": [
    "filenames=['VarLiteratureBooksCorpora/austen-brontë/Austen_Emma.txt',\n",
    "           'VarLiteratureBooksCorpora/austen-brontë/Austen_Pride.txt',\n",
    "           'VarLiteratureBooksCorpora/austen-brontë/Austen_Sense.txt',\n",
    "           'VarLiteratureBooksCorpora/austen-brontë/CBronte_Jane.txt',\n",
    "           'VarLiteratureBooksCorpora/austen-brontë/CBronte_Professor.txt',\n",
    "           'VarLiteratureBooksCorpora/austen-brontë/CBronte_Villette.txt',\n",
    "           'VarLiteratureBooksCorpora/british-fiction-corpus/ABronte_Agnes.txt',\n",
    "           'VarLiteratureBooksCorpora/british-fiction-corpus/ABronte_Tenant.txt',#]\n",
    "#           'VarLiteratureBooksCorpora/british-fiction-corpus/Dickens_Oliver_Twist.txt',\n",
    "           'VarLiteratureBooksCorpora/british-fiction-corpus/Dickens_David.txt',\n",
    "           'VarLiteratureBooksCorpora/british-fiction-corpus/Dickens_Hard.txt',\n",
    "          'VarLiteratureBooksCorpora/X/u.txt',#],\n",
    "#             'VarLiteratureBooksCorpora/X/x1.txt',\n",
    "#            'VarLiteratureBooksCorpora/X/x2.txt',\n",
    "          'VarLiteratureBooksCorpora/X/De.txt']\n",
    "# filenames = ['/home/mosesboudourides/Dropbox/Python Projects/LiteratureNetworks/EstoniaDigitalHumanitiesConferenceOct2016/VarLiteratureBooksCorpora/austen-brontë/Austen_Emma.txt','/home/mosesboudourides/Dropbox/Python Projects/LiteratureNetworks/EstoniaDigitalHumanitiesConferenceOct2016/VarLiteratureBooksCorpora/austen-brontë/Austen_Pride.txt','/home/mosesboudourides/Dropbox/Python Projects/LiteratureNetworks/EstoniaDigitalHumanitiesConferenceOct2016/VarLiteratureBooksCorpora/austen-brontë/Austen_Sense.txt','/home/mosesboudourides/Dropbox/Python Projects/LiteratureNetworks/EstoniaDigitalHumanitiesConferenceOct2016/VarLiteratureBooksCorpora/austen-brontë/CBronte_Jane.txt','/home/mosesboudourides/Dropbox/Python Projects/LiteratureNetworks/EstoniaDigitalHumanitiesConferenceOct2016/VarLiteratureBooksCorpora/austen-brontë/CBronte_Professor.txt','/home/mosesboudourides/Dropbox/Python Projects/LiteratureNetworks/EstoniaDigitalHumanitiesConferenceOct2016/VarLiteratureBooksCorpora/austen-brontë/CBronte_Villette.txt']\n",
    "# titlename = \"Plato's Protagoras\"\n",
    "# titlenames=['Austen_Emma','Austen_Pride','Austen_Sense','CBronte_Jane','CBronte_Professor','CBronte_Villette']\n",
    "titlenames=['Austen_Emma',\n",
    "            'Austen_Pride_and_Prejudice',\n",
    "            'Austen_Sense_and_Sensibility',\n",
    "            'CBronte_Jane_Eyre',\n",
    "            'CBronte_The_Professor',\n",
    "            'CBronte_Villette',\n",
    "#             'Dickens_Oliver_Twist',\n",
    "            'Dickens_David_Copperfield',\n",
    "            'Dickens_Hard_Times',\n",
    "            'ABronte_Agnes_Grey',\n",
    "           'ABronte_The_Tenant_of_Wildfell_Hall',#]\n",
    "            'U',\n",
    "#             'X1',\n",
    "#             'X2',\n",
    "            'Y']\n",
    "# e']\n",
    "# filenames=['VarLiteratureBooksCorpora/austen-brontë/Austen_Emma.txt','VarLiteratureBooksCorpora/austen-brontë/Austen_Pride.txt','VarLiteratureBooksCorpora/austen-brontë/Austen_Sense.txt','VarLiteratureBooksCorpora/austen-brontë/CBronte_Jane.txt','VarLiteratureBooksCorpora/austen-brontë/CBronte_Professor.txt','VarLiteratureBooksCorpora/austen-brontë/CBronte_Villette.txt']\n",
    "from textblob.np_extractors import ConllExtractor\n",
    "extractor = ConllExtractor()\n",
    "        \n",
    "\n",
    "# titlenames=['Austen_Emma','Austen_Pride','Austen_Sense','CBronte_Jane','CBronte_Professor','CBronte_Villette']\n",
    "blobs={}\n",
    "for ii,filename in enumerate(filenames):\n",
    "    f = codecs.open(filename, \"r\", encoding=\"utf-8\").read()\n",
    "\n",
    "    num_lines = 0\n",
    "    num_words = 0\n",
    "    num_chars = 0\n",
    "    for line in f:\n",
    "        words = line.split()\n",
    "        num_lines += 1\n",
    "        num_words += len(words)\n",
    "        num_chars += len(line)\n",
    "    print \"%s has number of words = %i and number of characters = %i\" %(titlenames[ii],num_words,num_chars)\n",
    "    blobs[ii] = TextBlob(f,np_extractor=extractor)\n",
    "#     blobs[ii] = TextBlob(f)"
   ]
  },
  {
   "cell_type": "code",
   "execution_count": null,
   "metadata": {
    "collapsed": true
   },
   "outputs": [],
   "source": [
    "moccurdic={}\n",
    "for ii,blob in blobs.items():\n",
    "    all_sents=blob.sentences\n",
    "    occurdic=Counter()\n",
    "    for sen in all_sents:\n",
    "        dd=sen.dict\n",
    "        for np in dd['noun_phrases']:\n",
    "            occurdic[np]+=1\n",
    "\n",
    "    moccurdic[ii]=Counter(occurdic)"
   ]
  },
  {
   "cell_type": "code",
   "execution_count": null,
   "metadata": {
    "collapsed": false
   },
   "outputs": [],
   "source": [
    "from nltk.corpus import stopwords\n",
    "stop=set(stopwords.words('english'))\n",
    "# stop=set()\n",
    "ses=None\n",
    "for ii,vv in moccurdic.items():\n",
    "#     print ii,set(vv).intersection(stop).intersection(ses)\n",
    "    if ses==None:\n",
    "        \n",
    "        ses=set(vv.keys())-stop\n",
    "    else:\n",
    "        ses=ses.intersection(set(vv.keys())-stop)\n",
    "print 'The %i books have the following %i common noun phrases:' %(len(titlenames),len(ses))\n",
    "columnss=['noun_phrase']\n",
    "for tit in list(titlenames):\n",
    "    columnss.append(tit)\n",
    "\n",
    "dfnamesa=pd.DataFrame()\n",
    "dff=[]\n",
    "for sss in ses:\n",
    "    \n",
    "    dfd={'noun_phrase':sss}\n",
    "    for ii,vv in moccurdic.items():\n",
    "        dfd[titlenames[ii]]=vv[sss]\n",
    "    dff.append(dfd)\n",
    "dfnamesa=pd.DataFrame(dff)\n",
    "# ses\n",
    "dfnamesa=dfnamesa[columnss]\n",
    "dfnamesa"
   ]
  },
  {
   "cell_type": "code",
   "execution_count": null,
   "metadata": {
    "collapsed": false
   },
   "outputs": [],
   "source": [
    "ses=None\n",
    "excluded=['have','was','shall',\"ca n't\",'think']\n",
    "# excluded=[]\n",
    "for ii,vv in moccurdic.items():\n",
    "    vv=set(vv.keys()) -(set(excluded))\n",
    "    if ses==None:\n",
    "        ses=set(vv)\n",
    "    else:\n",
    "        ses=ses.intersection(set(vv))\n",
    "#     print ii,len(ses)\n",
    "print 'The %i books have the following %i common noun phrases:' %(len(titlenames),len(ses))\n",
    "print 'The %i books have the following %i common noun phrases:' %(len(titlenames),len(ses))\n",
    "columnss=['noun_phrase']\n",
    "for tit in list(titlenames):\n",
    "    columnss.append(tit)\n",
    "\n",
    "dfnames=pd.DataFrame()\n",
    "dff=[]\n",
    "for sss in ses:\n",
    "    \n",
    "    dfd={'noun_phrase':sss}\n",
    "#     dff.append({})\n",
    "#     print sss,\n",
    "    for ii,vv in moccurdic.items():\n",
    "        dfd[titlenames[ii]]=vv[sss]*1./sum(moccurdic[ii].values())\n",
    "    dff.append(dfd)\n",
    "#         print ii,'=>',vv[sss],\n",
    "#     print \n",
    "dfnames=pd.DataFrame(dff)\n",
    "# ses\n",
    "dfnames=dfnames[columnss]\n",
    "dfnames"
   ]
  },
  {
   "cell_type": "code",
   "execution_count": null,
   "metadata": {
    "collapsed": false
   },
   "outputs": [],
   "source": [
    "dfnamescor=dfnames.corr()\n",
    "dfnamescor"
   ]
  },
  {
   "cell_type": "code",
   "execution_count": null,
   "metadata": {
    "collapsed": false
   },
   "outputs": [],
   "source": [
    "G=nx.Graph()\n",
    "ddd=dfnamescor.to_dict(orient='index')\n",
    "# print ddd\n",
    "for k,v in ddd.items():\n",
    "    for kk,vv in v.items():\n",
    "        G.add_edge(k,kk,weight=vv)\n",
    "import community as comms\n",
    "part = comms.best_partition(G)\n",
    "# print part\n",
    "npart={}\n",
    "for k,v in part.items():\n",
    "    if v not in npart:\n",
    "        npart[v]=[]\n",
    "    npart[v].append(k)\n",
    "npart"
   ]
  },
  {
   "cell_type": "code",
   "execution_count": null,
   "metadata": {
    "collapsed": false
   },
   "outputs": [],
   "source": [
    "sstt=\"Network of Common Noun Phrases \"#\\n(Sentences colored in subjectivity)\"# %titlename\n",
    "part,nodper=tool.print_communities(G,sstt)\n",
    "\n",
    "d=0.8 \n",
    "dd=0.8\n",
    "c=1.2\n",
    "cc=1.4\n",
    "alpha=0.2\n",
    "ealpha=0.6\n",
    "vcc={}\n",
    "sstta=\"The %s Communities of the Network of Common Noun Phrases in %i books\" %(max(part.values())+1,len(titlenames))#sstt)\n",
    "\n",
    "tool.draw_comms(G,G.nodes(),[],[],[] ,part,part,d,dd,c,cc,alpha,ealpha,nodper,sstta,titlefont=20,labelfont=17,valpha=0.5)"
   ]
  },
  {
   "cell_type": "code",
   "execution_count": null,
   "metadata": {
    "collapsed": true
   },
   "outputs": [],
   "source": []
  }
 ],
 "metadata": {
  "kernelspec": {
   "display_name": "Python 2",
   "language": "python",
   "name": "python2"
  },
  "language_info": {
   "codemirror_mode": {
    "name": "ipython",
    "version": 2
   },
   "file_extension": ".py",
   "mimetype": "text/x-python",
   "name": "python",
   "nbconvert_exporter": "python",
   "pygments_lexer": "ipython2",
   "version": "2.7.12"
  }
 },
 "nbformat": 4,
 "nbformat_minor": 0
}
